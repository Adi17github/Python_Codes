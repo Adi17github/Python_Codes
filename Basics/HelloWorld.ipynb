{
 "cells": [
  {
   "cell_type": "code",
   "execution_count": 1,
   "id": "442bc04b",
   "metadata": {},
   "outputs": [
    {
     "name": "stdout",
     "output_type": "stream",
     "text": [
      "HelloWorld\n"
     ]
    }
   ],
   "source": [
    "\n",
    "# This code will simply prints the text message as provided\n",
    "\n",
    "def helloprint(text):\n",
    "    # this function will prints the message provided as an argument to the function\n",
    "    print(text)\n",
    "    \n",
    "if __name__ == '__main__':\n",
    "    helloprint('HelloWorld')"
   ]
  },
  {
   "cell_type": "code",
   "execution_count": null,
   "id": "f43180aa",
   "metadata": {},
   "outputs": [],
   "source": []
  }
 ],
 "metadata": {
  "kernelspec": {
   "display_name": "Python 3 (ipykernel)",
   "language": "python",
   "name": "python3"
  },
  "language_info": {
   "codemirror_mode": {
    "name": "ipython",
    "version": 3
   },
   "file_extension": ".py",
   "mimetype": "text/x-python",
   "name": "python",
   "nbconvert_exporter": "python",
   "pygments_lexer": "ipython3",
   "version": "3.10.9"
  }
 },
 "nbformat": 4,
 "nbformat_minor": 5
}
