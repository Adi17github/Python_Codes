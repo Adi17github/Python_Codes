{
 "cells": [
  {
   "cell_type": "code",
   "execution_count": 12,
   "id": "e39c0b6b",
   "metadata": {},
   "outputs": [],
   "source": [
    "# Have the programme read a .CSV file of records, sort them, and then write them back to the file\n",
    "\n",
    "import csv\n",
    "\n",
    "\n",
    "def sort_csv(filename):\n",
    "#     reading the csv file\n",
    "    with open(filename,'r') as file:\n",
    "        reader = csv.reader(file)\n",
    "#         print(type(reader))\n",
    "\n",
    "# type conversion into list\n",
    "        data = list(reader)\n",
    "#         print(data)\n",
    "#         header = data[0]\n",
    "#         print(header)\n",
    "\n",
    "\n",
    "# sorting the csv data\n",
    "        sorted_data = sorted(data[1:])\n",
    "#         print(sorted_data)\n",
    "        return sorted_data\n",
    "\n",
    "def write_csv(sorted_data):\n",
    "    with open('sorted_data.csv','w') as file:\n",
    "        writer = csv.writer(file)\n",
    "        \n",
    "        writer.writerows(sorted_data)\n",
    "        \n",
    "        \n",
    "filename = 'emprec.csv'\n",
    "sorted_op = sort_csv(filename)  # function call 1\n",
    "# print(sorted_op)\n",
    "\n",
    "write_csv(sorted_op)  # function call 2"
   ]
  },
  {
   "cell_type": "code",
   "execution_count": null,
   "id": "5e4c954e",
   "metadata": {},
   "outputs": [],
   "source": []
  }
 ],
 "metadata": {
  "kernelspec": {
   "display_name": "Python 3 (ipykernel)",
   "language": "python",
   "name": "python3"
  },
  "language_info": {
   "codemirror_mode": {
    "name": "ipython",
    "version": 3
   },
   "file_extension": ".py",
   "mimetype": "text/x-python",
   "name": "python",
   "nbconvert_exporter": "python",
   "pygments_lexer": "ipython3",
   "version": "3.10.9"
  }
 },
 "nbformat": 4,
 "nbformat_minor": 5
}
