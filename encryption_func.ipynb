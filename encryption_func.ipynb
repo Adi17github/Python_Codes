{
 "cells": [
  {
   "cell_type": "code",
   "execution_count": 31,
   "id": "881fa4e5",
   "metadata": {},
   "outputs": [
    {
     "name": "stdout",
     "output_type": "stream",
     "text": [
      "['eht', 'snu', 'sesir', 'ni', 'eht', 'stea']\n"
     ]
    }
   ],
   "source": [
    "def encrypt_sentence(msg_str):\n",
    "#     print(msg_str)\n",
    "    enc_str = []\n",
    "    msg_lst = msg_str.split()\n",
    "#     print(msg_lst)\n",
    "\n",
    "    counter = 0\n",
    "    for word in msg_lst:\n",
    "#         print(word)\n",
    "        if counter % 2 == 0:\n",
    "#             print(\"Even\")\n",
    "            str_to_rev = msg_lst[counter]\n",
    "            str_to_rev = str_to_rev[::-1]\n",
    "            enc_str.append(str_to_rev)\n",
    "        else:\n",
    "#              print(\"Odd\")\n",
    "            str_to_rerange = msg_lst[counter]\n",
    "#             print(str_to_rerange)\n",
    "            vowels = \"aeiouAEIOU\"\n",
    "            consonants = \"\"\n",
    "            vowel = \"\"\n",
    "            for char in str_to_rerange:\n",
    "#                 print(char)\n",
    "                if char not in vowels:\n",
    "                   consonants += char\n",
    "                else:\n",
    "                    vowel += char\n",
    "                    \n",
    "            re_str = consonants + vowel\n",
    "#             print(re_str)\n",
    "            \n",
    "            enc_str.append(re_str)\n",
    "        \n",
    "        counter += 1\n",
    "        \n",
    "    print(enc_str)\n",
    "    \n",
    "    \n",
    "message_str = \"the sun rises in the east\"\n",
    "encrypt_sentence(message_str)"
   ]
  }
 ],
 "metadata": {
  "kernelspec": {
   "display_name": "Python 3 (ipykernel)",
   "language": "python",
   "name": "python3"
  },
  "language_info": {
   "codemirror_mode": {
    "name": "ipython",
    "version": 3
   },
   "file_extension": ".py",
   "mimetype": "text/x-python",
   "name": "python",
   "nbconvert_exporter": "python",
   "pygments_lexer": "ipython3",
   "version": "3.10.9"
  }
 },
 "nbformat": 4,
 "nbformat_minor": 5
}
